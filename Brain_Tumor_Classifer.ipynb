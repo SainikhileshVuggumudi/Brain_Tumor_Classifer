{
 "cells": [
  {
   "cell_type": "markdown",
   "metadata": {
    "colab_type": "text",
    "id": "tGdoUE8p3PL-"
   },
   "source": [
    "**Problem statement**\n",
    "The main purpose is to build a CNN model that would classify if subject has a tumor or not base on MRI scan. I used the VGG-16 model architecture and weights to train the model for this binary problem. I used accuracy as a metric to justify the model performance . "
   ]
  },
  {
   "cell_type": "markdown",
   "metadata": {
    "colab_type": "text",
    "id": "Chi0-Rt35SZO"
   },
   "source": [
    "**What is Brain Tumor?**\n",
    "\n",
    "A brain tumor occurs when abnormal cells form within the brain. There are two main types of tumors: cancerous (malignant) tumors and benign tumors. Cancerous tumors can be divided into primary tumors, which start within the brain, and secondary tumors, which have spread from elsewhere, known as brain metastasis tumors. All types of brain tumors may produce symptoms that vary depending on the part of the brain involved. These symptoms may include headaches, seizures, problems with vision, vomiting and mental changes. The headache is classically worse in the morning and goes away with vomiting. Other symptoms may include difficulty walking, speaking or with sensations. As the disease progresses, unconsciousness may occur.\n",
    "\n",
    "\n"
   ]
  },
  {
   "cell_type": "code",
   "execution_count": 1,
   "metadata": {
    "colab": {
     "base_uri": "https://localhost:8080/",
     "height": 125
    },
    "colab_type": "code",
    "id": "gUyCcOYv3Mle",
    "outputId": "e36069dc-4f33-4508-ecf5-406a294944f8"
   },
   "outputs": [
    {
     "name": "stdout",
     "output_type": "stream",
     "text": [
      "Go to this URL in a browser: https://accounts.google.com/o/oauth2/auth?client_id=947318989803-6bn6qk8qdgf4n4g3pfee6491hc0brc4i.apps.googleusercontent.com&redirect_uri=urn%3aietf%3awg%3aoauth%3a2.0%3aoob&response_type=code&scope=email%20https%3a%2f%2fwww.googleapis.com%2fauth%2fdocs.test%20https%3a%2f%2fwww.googleapis.com%2fauth%2fdrive%20https%3a%2f%2fwww.googleapis.com%2fauth%2fdrive.photos.readonly%20https%3a%2f%2fwww.googleapis.com%2fauth%2fpeopleapi.readonly\n",
      "\n",
      "Enter your authorization code:\n",
      "··········\n",
      "Mounted at /content/drive/\n"
     ]
    }
   ],
   "source": [
    "#mounting drive\n",
    "from google.colab import drive\n",
    "drive.mount('/content/drive/')"
   ]
  },
  {
   "cell_type": "code",
   "execution_count": 2,
   "metadata": {
    "colab": {},
    "colab_type": "code",
    "id": "Rs8oIC5Q015Q"
   },
   "outputs": [],
   "source": [
    "# To remove deprecated warnings from the tensorflow\n",
    "import warnings\n",
    "warnings.filterwarnings(\"ignore\")"
   ]
  },
  {
   "cell_type": "code",
   "execution_count": 4,
   "metadata": {
    "colab": {},
    "colab_type": "code",
    "id": "7fwpmp7c015a"
   },
   "outputs": [],
   "source": [
    "import os\n",
    "PATH = os.getcwd()"
   ]
  },
  {
   "cell_type": "code",
   "execution_count": 9,
   "metadata": {
    "colab": {
     "base_uri": "https://localhost:8080/",
     "height": 34
    },
    "colab_type": "code",
    "id": "FhROOEXz015f",
    "outputId": "76b8305f-1c92-42a0-a81d-50cb7c844ee0"
   },
   "outputs": [
    {
     "name": "stdout",
     "output_type": "stream",
     "text": [
      "['yes', 'no']\n"
     ]
    }
   ],
   "source": [
    "#printing data dir list\n",
    "DATA_PATH = os.path.join(PATH, '/content/drive/My Drive/brain_tumor_dataset')\n",
    "data_dir_list = os.listdir(DATA_PATH)\n",
    "print(data_dir_list)"
   ]
  },
  {
   "cell_type": "markdown",
   "metadata": {
    "colab_type": "text",
    "id": "culDDA7145wl"
   },
   "source": [
    "**Data Set Description**\n",
    "The image data that was used for this problem is Brain MRI Images for Brain Tumor Detection. It conists of MRI scans of two classes:\n",
    "\n",
    "NO - no tumor, encoded as 0\n",
    "\n",
    "YES - tumor, encoded as 1"
   ]
  },
  {
   "cell_type": "code",
   "execution_count": 10,
   "metadata": {
    "colab": {
     "base_uri": "https://localhost:8080/",
     "height": 87
    },
    "colab_type": "code",
    "id": "WdNTu9o8015r",
    "outputId": "91b670e8-92d4-4061-d602-ce7e3c821e4c"
   },
   "outputs": [
    {
     "name": "stdout",
     "output_type": "stream",
     "text": [
      "Loading images from yes folder\n",
      "\n",
      "Loading images from no folder\n",
      "\n"
     ]
    }
   ],
   "source": [
    "#Read the images and store them in the list\n",
    "import cv2\n",
    "\n",
    "classes_names_list=[]\n",
    "img_data_list=[]\n",
    "\n",
    "for dataset in data_dir_list:\n",
    "    classes_names_list.append(dataset) \n",
    "    print ('Loading images from {} folder\\n'.format(dataset)) \n",
    "    img_list=os.listdir(DATA_PATH+'/'+ dataset)\n",
    "    for img in img_list:\n",
    "        input_img=cv2.imread(DATA_PATH + '/'+ dataset + '/'+ img )\n",
    "        input_img_resize=cv2.resize(input_img,(224, 224))\n",
    "        (b, g, r)=cv2.split(input_img_resize) \n",
    "        img=cv2.merge([r,g,b])\n",
    "        img_data_list.append(img)"
   ]
  },
  {
   "cell_type": "code",
   "execution_count": 11,
   "metadata": {
    "colab": {
     "base_uri": "https://localhost:8080/",
     "height": 34
    },
    "colab_type": "code",
    "id": "xb6mbFmU015u",
    "outputId": "bd326bed-7559-4836-df62-f280b8018074"
   },
   "outputs": [
    {
     "name": "stdout",
     "output_type": "stream",
     "text": [
      "2\n"
     ]
    }
   ],
   "source": [
    "#Get the number of classes\n",
    "num_classes = len(classes_names_list)\n",
    "print(num_classes)"
   ]
  },
  {
   "cell_type": "markdown",
   "metadata": {
    "colab_type": "text",
    "id": "-m7pSvxf_R3E"
   },
   "source": [
    "**Image preprocessiong** "
   ]
  },
  {
   "cell_type": "code",
   "execution_count": 31,
   "metadata": {
    "colab": {},
    "colab_type": "code",
    "id": "Lr3fq577015y"
   },
   "outputs": [],
   "source": [
    "import numpy as np\n",
    "\n",
    "img_data = np.array(img_data_list)\n",
    "img_data = img_data.astype('float32')\n",
    "img_data /= 255"
   ]
  },
  {
   "cell_type": "code",
   "execution_count": 32,
   "metadata": {
    "colab": {
     "base_uri": "https://localhost:8080/",
     "height": 34
    },
    "colab_type": "code",
    "id": "aSTh4uEH0155",
    "outputId": "d0cb835b-134a-4809-9ac3-87a3900b9583"
   },
   "outputs": [
    {
     "name": "stdout",
     "output_type": "stream",
     "text": [
      "(253, 224, 224, 3)\n"
     ]
    }
   ],
   "source": [
    "print (img_data.shape)"
   ]
  },
  {
   "cell_type": "code",
   "execution_count": 33,
   "metadata": {
    "colab": {
     "base_uri": "https://localhost:8080/",
     "height": 268
    },
    "colab_type": "code",
    "id": "gPdxgaf10158",
    "outputId": "c2ae38eb-2e6e-4e14-e827-da1369415a35"
   },
   "outputs": [
    {
     "data": {
      "image/png": "[encoded data removed]",
      "text/plain": [
       "<Figure size 432x288 with 1 Axes>"
      ]
     },
     "metadata": {
      "needs_background": "light",
      "tags": []
     },
     "output_type": "display_data"
    }
   ],
   "source": [
    "#show one training sample\n",
    "from matplotlib import pyplot as plt\n",
    "plt.imshow(img_data[97])\n",
    "plt.show()"
   ]
  },
  {
   "cell_type": "code",
   "execution_count": 34,
   "metadata": {
    "colab": {
     "base_uri": "https://localhost:8080/",
     "height": 52
    },
    "colab_type": "code",
    "id": "PXEBBUsG016A",
    "outputId": "efb8038d-61ce-4751-c3f4-a30093ca8a44"
   },
   "outputs": [
    {
     "name": "stdout",
     "output_type": "stream",
     "text": [
      "253\n",
      "(224, 224, 3)\n"
     ]
    }
   ],
   "source": [
    "num_of_samples = img_data.shape[0]\n",
    "input_shape = img_data[0].shape\n",
    "print(num_of_samples)\n",
    "print(input_shape)"
   ]
  },
  {
   "cell_type": "code",
   "execution_count": 35,
   "metadata": {
    "colab": {},
    "colab_type": "code",
    "id": "dvdplKad016D"
   },
   "outputs": [],
   "source": [
    "#separating classes into \"0\" and \"1\"\n",
    "classes = np.ones((num_of_samples,), dtype='int64')\n",
    "classes[0:98]=0\n",
    "classes[98:]=1"
   ]
  },
  {
   "cell_type": "code",
   "execution_count": 36,
   "metadata": {
    "colab": {
     "base_uri": "https://localhost:8080/",
     "height": 34
    },
    "colab_type": "code",
    "id": "7lgbjPdz016G",
    "outputId": "97d5cdfa-c21c-4457-b45b-c563148dac96"
   },
   "outputs": [
    {
     "name": "stdout",
     "output_type": "stream",
     "text": [
      "(253, 2)\n"
     ]
    }
   ],
   "source": [
    "#Convert class labels to numberic using one-hot encoding\n",
    "from keras.utils import to_categorical\n",
    "classes = to_categorical(classes, num_classes)\n",
    "print(classes.shape)"
   ]
  },
  {
   "cell_type": "code",
   "execution_count": 37,
   "metadata": {
    "colab": {},
    "colab_type": "code",
    "id": "VQrQ5VLz016K"
   },
   "outputs": [],
   "source": [
    "#Shuffle the dataset\n",
    "from sklearn.utils import shuffle\n",
    "X, Y = shuffle(img_data, classes, random_state=456)"
   ]
  },
  {
   "cell_type": "code",
   "execution_count": 38,
   "metadata": {
    "colab": {
     "base_uri": "https://localhost:8080/",
     "height": 1000
    },
    "colab_type": "code",
    "id": "lnMUqmKwAv6G",
    "outputId": "2c87f0ff-957a-4df0-ab4f-78c27b0b9ec4"
   },
   "outputs": [
    {
     "name": "stdout",
     "output_type": "stream",
     "text": [
      "[[[[0.08627451 0.09411765 0.09019608]\n",
      "   [0.09411765 0.10196079 0.09803922]\n",
      "   [0.10588235 0.11372549 0.10980392]\n",
      "   ...\n",
      "   [0.10196079 0.10980392 0.10588235]\n",
      "   [0.06666667 0.07450981 0.07058824]\n",
      "   [0.5764706  0.58431375 0.5803922 ]]\n",
      "\n",
      "  [[0.08627451 0.09411765 0.09019608]\n",
      "   [0.09411765 0.10196079 0.09803922]\n",
      "   [0.10588235 0.11372549 0.10980392]\n",
      "   ...\n",
      "   [0.10196079 0.10980392 0.10588235]\n",
      "   [0.0627451  0.07058824 0.06666667]\n",
      "   [0.5764706  0.58431375 0.5803922 ]]\n",
      "\n",
      "  [[0.08627451 0.09411765 0.09019608]\n",
      "   [0.09411765 0.10196079 0.09803922]\n",
      "   [0.10196079 0.11372549 0.10980392]\n",
      "   ...\n",
      "   [0.10196079 0.10980392 0.10588235]\n",
      "   [0.0627451  0.07058824 0.06666667]\n",
      "   [0.5764706  0.58431375 0.5803922 ]]\n",
      "\n",
      "  ...\n",
      "\n",
      "  [[0.09411765 0.09411765 0.09411765]\n",
      "   [0.09411765 0.09411765 0.09411765]\n",
      "   [0.09411765 0.09411765 0.09411765]\n",
      "   ...\n",
      "   [0.10980392 0.10980392 0.10980392]\n",
      "   [0.05098039 0.05098039 0.05098039]\n",
      "   [0.5921569  0.5921569  0.5921569 ]]\n",
      "\n",
      "  [[0.07843138 0.07843138 0.07843138]\n",
      "   [0.09803922 0.09803922 0.09803922]\n",
      "   [0.11372549 0.11372549 0.11372549]\n",
      "   ...\n",
      "   [0.10196079 0.10196079 0.10196079]\n",
      "   [0.03529412 0.03529412 0.03529412]\n",
      "   [0.5921569  0.5921569  0.5921569 ]]\n",
      "\n",
      "  [[0.07843138 0.07843138 0.07843138]\n",
      "   [0.09803922 0.09803922 0.09803922]\n",
      "   [0.11372549 0.11372549 0.11372549]\n",
      "   ...\n",
      "   [0.10196079 0.10196079 0.10196079]\n",
      "   [0.03529412 0.03529412 0.03529412]\n",
      "   [0.5921569  0.5921569  0.5921569 ]]]\n",
      "\n",
      "\n",
      " [[[0.         0.         0.        ]\n",
      "   [0.         0.         0.        ]\n",
      "   [0.         0.         0.        ]\n",
      "   ...\n",
      "   [0.         0.         0.        ]\n",
      "   [0.         0.         0.        ]\n",
      "   [0.         0.         0.        ]]\n",
      "\n",
      "  [[0.         0.         0.        ]\n",
      "   [0.         0.         0.        ]\n",
      "   [0.         0.         0.        ]\n",
      "   ...\n",
      "   [0.         0.         0.        ]\n",
      "   [0.         0.         0.        ]\n",
      "   [0.         0.         0.        ]]\n",
      "\n",
      "  [[0.         0.         0.        ]\n",
      "   [0.         0.         0.        ]\n",
      "   [0.         0.         0.        ]\n",
      "   ...\n",
      "   [0.         0.         0.        ]\n",
      "   [0.         0.         0.        ]\n",
      "   [0.         0.         0.        ]]\n",
      "\n",
      "  ...\n",
      "\n",
      "  [[0.         0.         0.        ]\n",
      "   [0.         0.         0.        ]\n",
      "   [0.         0.         0.        ]\n",
      "   ...\n",
      "   [0.         0.         0.        ]\n",
      "   [0.         0.         0.        ]\n",
      "   [0.         0.         0.        ]]\n",
      "\n",
      "  [[0.         0.         0.        ]\n",
      "   [0.         0.         0.        ]\n",
      "   [0.         0.         0.        ]\n",
      "   ...\n",
      "   [0.         0.         0.        ]\n",
      "   [0.         0.         0.        ]\n",
      "   [0.         0.         0.        ]]\n",
      "\n",
      "  [[0.         0.         0.        ]\n",
      "   [0.         0.         0.        ]\n",
      "   [0.         0.         0.        ]\n",
      "   ...\n",
      "   [0.         0.         0.        ]\n",
      "   [0.         0.         0.        ]\n",
      "   [0.         0.         0.        ]]]\n",
      "\n",
      "\n",
      " [[[0.         0.         0.        ]\n",
      "   [0.         0.         0.        ]\n",
      "   [0.         0.         0.        ]\n",
      "   ...\n",
      "   [0.         0.         0.        ]\n",
      "   [0.         0.         0.        ]\n",
      "   [0.         0.         0.        ]]\n",
      "\n",
      "  [[0.         0.         0.        ]\n",
      "   [0.         0.         0.        ]\n",
      "   [0.         0.         0.        ]\n",
      "   ...\n",
      "   [0.         0.         0.        ]\n",
      "   [0.         0.         0.        ]\n",
      "   [0.         0.         0.        ]]\n",
      "\n",
      "  [[0.         0.         0.        ]\n",
      "   [0.         0.         0.        ]\n",
      "   [0.         0.         0.        ]\n",
      "   ...\n",
      "   [0.         0.         0.        ]\n",
      "   [0.         0.         0.        ]\n",
      "   [0.         0.         0.        ]]\n",
      "\n",
      "  ...\n",
      "\n",
      "  [[0.         0.         0.        ]\n",
      "   [0.         0.         0.        ]\n",
      "   [0.         0.         0.        ]\n",
      "   ...\n",
      "   [0.         0.         0.        ]\n",
      "   [0.         0.         0.        ]\n",
      "   [0.         0.         0.        ]]\n",
      "\n",
      "  [[0.         0.         0.        ]\n",
      "   [0.         0.         0.        ]\n",
      "   [0.         0.         0.        ]\n",
      "   ...\n",
      "   [0.         0.         0.        ]\n",
      "   [0.         0.         0.        ]\n",
      "   [0.         0.         0.        ]]\n",
      "\n",
      "  [[0.         0.         0.        ]\n",
      "   [0.         0.         0.        ]\n",
      "   [0.         0.         0.        ]\n",
      "   ...\n",
      "   [0.         0.         0.        ]\n",
      "   [0.         0.         0.        ]\n",
      "   [0.         0.         0.        ]]]\n",
      "\n",
      "\n",
      " ...\n",
      "\n",
      "\n",
      " [[[0.18039216 0.18039216 0.18039216]\n",
      "   [0.10196079 0.10196079 0.10196079]\n",
      "   [0.10196079 0.10196079 0.10196079]\n",
      "   ...\n",
      "   [0.10196079 0.09803922 0.09803922]\n",
      "   [0.10196079 0.09803922 0.10196079]\n",
      "   [0.18039216 0.17254902 0.1764706 ]]\n",
      "\n",
      "  [[0.11372549 0.11372549 0.11372549]\n",
      "   [0.03921569 0.03921569 0.03921569]\n",
      "   [0.03921569 0.03921569 0.03921569]\n",
      "   ...\n",
      "   [0.03529412 0.03529412 0.03529412]\n",
      "   [0.03921569 0.03137255 0.03529412]\n",
      "   [0.11372549 0.10588235 0.10980392]]\n",
      "\n",
      "  [[0.11764706 0.11764706 0.11764706]\n",
      "   [0.03921569 0.03921569 0.03921569]\n",
      "   [0.03921569 0.03921569 0.03921569]\n",
      "   ...\n",
      "   [0.03921569 0.03529412 0.03921569]\n",
      "   [0.03921569 0.03137255 0.03921569]\n",
      "   [0.11764706 0.10980392 0.11372549]]\n",
      "\n",
      "  ...\n",
      "\n",
      "  [[0.07058824 0.05490196 0.05882353]\n",
      "   [0.07058824 0.05490196 0.05882353]\n",
      "   [0.07058824 0.05490196 0.05490196]\n",
      "   ...\n",
      "   [0.06666667 0.05882353 0.0627451 ]\n",
      "   [0.07843138 0.07058824 0.07450981]\n",
      "   [0.08627451 0.07843138 0.08235294]]\n",
      "\n",
      "  [[0.07058824 0.05490196 0.0627451 ]\n",
      "   [0.07058824 0.05490196 0.05882353]\n",
      "   [0.07058824 0.05490196 0.05882353]\n",
      "   ...\n",
      "   [0.0627451  0.05490196 0.05882353]\n",
      "   [0.07450981 0.06666667 0.07058824]\n",
      "   [0.08627451 0.07843138 0.08235294]]\n",
      "\n",
      "  [[0.12156863 0.10588235 0.10980392]\n",
      "   [0.11764706 0.10196079 0.10588235]\n",
      "   [0.11764706 0.10196079 0.10588235]\n",
      "   ...\n",
      "   [0.10588235 0.09803922 0.10196079]\n",
      "   [0.11372549 0.10980392 0.10980392]\n",
      "   [0.12156863 0.11372549 0.11764706]]]\n",
      "\n",
      "\n",
      " [[[0.         0.         0.        ]\n",
      "   [0.         0.         0.        ]\n",
      "   [0.         0.         0.        ]\n",
      "   ...\n",
      "   [0.         0.         0.        ]\n",
      "   [0.         0.         0.        ]\n",
      "   [0.         0.         0.        ]]\n",
      "\n",
      "  [[0.         0.         0.        ]\n",
      "   [0.         0.         0.        ]\n",
      "   [0.         0.         0.        ]\n",
      "   ...\n",
      "   [0.         0.         0.        ]\n",
      "   [0.         0.         0.        ]\n",
      "   [0.         0.         0.        ]]\n",
      "\n",
      "  [[0.         0.         0.        ]\n",
      "   [0.         0.         0.        ]\n",
      "   [0.         0.         0.        ]\n",
      "   ...\n",
      "   [0.         0.         0.        ]\n",
      "   [0.         0.         0.        ]\n",
      "   [0.         0.         0.        ]]\n",
      "\n",
      "  ...\n",
      "\n",
      "  [[0.         0.         0.        ]\n",
      "   [0.         0.         0.        ]\n",
      "   [0.         0.         0.        ]\n",
      "   ...\n",
      "   [0.         0.         0.        ]\n",
      "   [0.         0.         0.        ]\n",
      "   [0.         0.         0.        ]]\n",
      "\n",
      "  [[0.         0.         0.        ]\n",
      "   [0.         0.         0.        ]\n",
      "   [0.         0.         0.        ]\n",
      "   ...\n",
      "   [0.         0.         0.        ]\n",
      "   [0.         0.         0.        ]\n",
      "   [0.         0.         0.        ]]\n",
      "\n",
      "  [[0.         0.         0.        ]\n",
      "   [0.         0.         0.        ]\n",
      "   [0.         0.         0.        ]\n",
      "   ...\n",
      "   [0.         0.         0.        ]\n",
      "   [0.         0.         0.        ]\n",
      "   [0.         0.         0.        ]]]\n",
      "\n",
      "\n",
      " [[[0.         0.         0.        ]\n",
      "   [0.         0.         0.        ]\n",
      "   [0.         0.         0.        ]\n",
      "   ...\n",
      "   [0.         0.         0.        ]\n",
      "   [0.         0.         0.        ]\n",
      "   [0.         0.         0.        ]]\n",
      "\n",
      "  [[0.         0.         0.        ]\n",
      "   [0.         0.         0.        ]\n",
      "   [0.         0.         0.        ]\n",
      "   ...\n",
      "   [0.         0.         0.        ]\n",
      "   [0.         0.         0.        ]\n",
      "   [0.         0.         0.        ]]\n",
      "\n",
      "  [[0.         0.         0.        ]\n",
      "   [0.         0.         0.        ]\n",
      "   [0.         0.         0.        ]\n",
      "   ...\n",
      "   [0.         0.         0.        ]\n",
      "   [0.         0.         0.        ]\n",
      "   [0.         0.         0.        ]]\n",
      "\n",
      "  ...\n",
      "\n",
      "  [[0.         0.         0.        ]\n",
      "   [0.         0.         0.        ]\n",
      "   [0.         0.         0.        ]\n",
      "   ...\n",
      "   [0.         0.         0.        ]\n",
      "   [0.         0.         0.        ]\n",
      "   [0.         0.         0.        ]]\n",
      "\n",
      "  [[0.         0.         0.        ]\n",
      "   [0.         0.         0.        ]\n",
      "   [0.         0.         0.        ]\n",
      "   ...\n",
      "   [0.         0.         0.        ]\n",
      "   [0.         0.         0.        ]\n",
      "   [0.         0.         0.        ]]\n",
      "\n",
      "  [[0.         0.         0.        ]\n",
      "   [0.         0.         0.        ]\n",
      "   [0.         0.         0.        ]\n",
      "   ...\n",
      "   [0.         0.         0.        ]\n",
      "   [0.         0.         0.        ]\n",
      "   [0.         0.         0.        ]]]]\n"
     ]
    }
   ],
   "source": [
    "print(X)"
   ]
  },
  {
   "cell_type": "code",
   "execution_count": 39,
   "metadata": {
    "colab": {
     "base_uri": "https://localhost:8080/",
     "height": 52
    },
    "colab_type": "code",
    "id": "LIfksi1H016O",
    "outputId": "42c18c71-6427-4e33-df3d-2bdd5a0ddada"
   },
   "outputs": [
    {
     "name": "stdout",
     "output_type": "stream",
     "text": [
      "(202, 224, 224, 3) (51, 224, 224, 3)\n",
      "(202, 2) (51, 2)\n"
     ]
    }
   ],
   "source": [
    "#split the dataset\n",
    "from sklearn.model_selection import train_test_split\n",
    "X_train, X_test, y_train, y_test = train_test_split(X, Y, test_size=0.2, random_state=456)\n",
    "# Check the number of images in each dataset split\n",
    "print(X_train.shape, X_test.shape)\n",
    "print(y_train.shape, y_test.shape)"
   ]
  },
  {
   "cell_type": "markdown",
   "metadata": {
    "colab_type": "text",
    "id": "G_pNj505BEQz"
   },
   "source": [
    "# **CNN Model**"
   ]
  },
  {
   "cell_type": "code",
   "execution_count": 40,
   "metadata": {
    "colab": {},
    "colab_type": "code",
    "id": "4PFHouun016V"
   },
   "outputs": [],
   "source": [
    "from keras.models import Sequential\n",
    "from keras.layers import Dense, Dropout, Flatten\n",
    "from keras.layers import Conv2D, MaxPooling2D"
   ]
  },
  {
   "cell_type": "code",
   "execution_count": 41,
   "metadata": {
    "colab": {},
    "colab_type": "code",
    "id": "4KVMWRyB016b"
   },
   "outputs": [],
   "source": [
    "#### Build the model\n",
    "model = Sequential()\n",
    "\n",
    "model.add(Conv2D(32, (3, 3),activation='relu', input_shape=input_shape))\n",
    "model.add(Conv2D(32, (3, 3),activation='relu'))\n",
    "model.add(MaxPooling2D(pool_size=(2, 2)))\n",
    "model.add(Dropout(0.2))\n",
    "\n",
    "model.add(Conv2D(64, (3, 3),activation='relu'))\n",
    "model.add(Conv2D(64, (3, 3),activation='relu'))\n",
    "model.add(MaxPooling2D(pool_size=(2, 2)))\n",
    "model.add(Dropout(0.2))\n",
    "\n",
    "model.add(Flatten())\n",
    "model.add(Dense(64, activation='relu'))\n",
    "model.add(Dropout(0.2))\n",
    "model.add(Dense(num_classes, activation='sigmoid'))"
   ]
  },
  {
   "cell_type": "code",
   "execution_count": 42,
   "metadata": {
    "colab": {},
    "colab_type": "code",
    "id": "fvptk1V9016e"
   },
   "outputs": [],
   "source": [
    "#compile the model\n",
    "model.compile(loss='binary_crossentropy', optimizer='adam', metrics=[\"accuracy\"])"
   ]
  },
  {
   "cell_type": "code",
   "execution_count": 43,
   "metadata": {
    "colab": {
     "base_uri": "https://localhost:8080/",
     "height": 585
    },
    "colab_type": "code",
    "id": "nSyr6-cQ016k",
    "outputId": "2a1c85ab-f8d4-4cf7-9630-0f1942c70bdf"
   },
   "outputs": [
    {
     "name": "stdout",
     "output_type": "stream",
     "text": [
      "Model: \"sequential_2\"\n",
      "_________________________________________________________________\n",
      "Layer (type)                 Output Shape              Param #   \n",
      "=================================================================\n",
      "conv2d_5 (Conv2D)            (None, 222, 222, 32)      896       \n",
      "_________________________________________________________________\n",
      "conv2d_6 (Conv2D)            (None, 220, 220, 32)      9248      \n",
      "_________________________________________________________________\n",
      "max_pooling2d_3 (MaxPooling2 (None, 110, 110, 32)      0         \n",
      "_________________________________________________________________\n",
      "dropout_4 (Dropout)          (None, 110, 110, 32)      0         \n",
      "_________________________________________________________________\n",
      "conv2d_7 (Conv2D)            (None, 108, 108, 64)      18496     \n",
      "_________________________________________________________________\n",
      "conv2d_8 (Conv2D)            (None, 106, 106, 64)      36928     \n",
      "_________________________________________________________________\n",
      "max_pooling2d_4 (MaxPooling2 (None, 53, 53, 64)        0         \n",
      "_________________________________________________________________\n",
      "dropout_5 (Dropout)          (None, 53, 53, 64)        0         \n",
      "_________________________________________________________________\n",
      "flatten_2 (Flatten)          (None, 179776)            0         \n",
      "_________________________________________________________________\n",
      "dense_3 (Dense)              (None, 64)                11505728  \n",
      "_________________________________________________________________\n",
      "dropout_6 (Dropout)          (None, 64)                0         \n",
      "_________________________________________________________________\n",
      "dense_4 (Dense)              (None, 2)                 130       \n",
      "=================================================================\n",
      "Total params: 11,571,426\n",
      "Trainable params: 11,571,426\n",
      "Non-trainable params: 0\n",
      "_________________________________________________________________\n"
     ]
    }
   ],
   "source": [
    "#getting model summary\n",
    "model.summary()"
   ]
  },
  {
   "cell_type": "code",
   "execution_count": 44,
   "metadata": {
    "colab": {
     "base_uri": "https://localhost:8080/",
     "height": 567
    },
    "colab_type": "code",
    "id": "hHKIsCFU016p",
    "outputId": "d41281dc-1b35-45bb-a7e4-8522f1b81a7a"
   },
   "outputs": [
    {
     "name": "stdout",
     "output_type": "stream",
     "text": [
      "Train on 202 samples, validate on 51 samples\n",
      "Epoch 1/14\n",
      "202/202 [==============================] - 43s 215ms/step - loss: 0.9037 - accuracy: 0.4926 - val_loss: 0.6826 - val_accuracy: 0.5980\n",
      "Epoch 2/14\n",
      "202/202 [==============================] - 41s 203ms/step - loss: 0.6612 - accuracy: 0.6559 - val_loss: 0.6552 - val_accuracy: 0.5882\n",
      "Epoch 3/14\n",
      "202/202 [==============================] - 41s 205ms/step - loss: 0.6239 - accuracy: 0.6535 - val_loss: 0.6281 - val_accuracy: 0.6569\n",
      "Epoch 4/14\n",
      "202/202 [==============================] - 41s 205ms/step - loss: 0.6206 - accuracy: 0.6460 - val_loss: 0.6280 - val_accuracy: 0.6471\n",
      "Epoch 5/14\n",
      "202/202 [==============================] - 41s 205ms/step - loss: 0.5765 - accuracy: 0.6856 - val_loss: 0.6179 - val_accuracy: 0.6176\n",
      "Epoch 6/14\n",
      "202/202 [==============================] - 42s 207ms/step - loss: 0.5392 - accuracy: 0.7302 - val_loss: 0.6066 - val_accuracy: 0.6569\n",
      "Epoch 7/14\n",
      "202/202 [==============================] - 41s 205ms/step - loss: 0.5437 - accuracy: 0.7005 - val_loss: 0.6071 - val_accuracy: 0.5882\n",
      "Epoch 8/14\n",
      "202/202 [==============================] - 41s 205ms/step - loss: 0.4912 - accuracy: 0.7649 - val_loss: 0.5865 - val_accuracy: 0.6176\n",
      "Epoch 9/14\n",
      "202/202 [==============================] - 41s 204ms/step - loss: 0.4448 - accuracy: 0.7970 - val_loss: 0.5769 - val_accuracy: 0.6471\n",
      "Epoch 10/14\n",
      "202/202 [==============================] - 41s 204ms/step - loss: 0.3914 - accuracy: 0.8119 - val_loss: 0.5996 - val_accuracy: 0.6765\n",
      "Epoch 11/14\n",
      "202/202 [==============================] - 41s 203ms/step - loss: 0.3649 - accuracy: 0.8540 - val_loss: 0.6194 - val_accuracy: 0.6569\n",
      "Epoch 12/14\n",
      "202/202 [==============================] - 41s 204ms/step - loss: 0.2754 - accuracy: 0.8886 - val_loss: 0.7027 - val_accuracy: 0.6765\n",
      "Epoch 13/14\n",
      "202/202 [==============================] - 41s 202ms/step - loss: 0.1959 - accuracy: 0.9307 - val_loss: 0.8542 - val_accuracy: 0.6667\n",
      "Epoch 14/14\n",
      "202/202 [==============================] - 41s 204ms/step - loss: 0.1927 - accuracy: 0.9208 - val_loss: 1.0368 - val_accuracy: 0.5980\n",
      "CPU times: user 18min 41s, sys: 8.52 s, total: 18min 50s\n",
      "Wall time: 9min 40s\n"
     ]
    }
   ],
   "source": [
    "#training the model\n",
    "%%time\n",
    "hist = model.fit(X_train, y_train, batch_size=32, epochs=14, verbose=1, validation_data=(X_test, y_test))"
   ]
  },
  {
   "cell_type": "code",
   "execution_count": 45,
   "metadata": {
    "colab": {
     "base_uri": "https://localhost:8080/",
     "height": 70
    },
    "colab_type": "code",
    "id": "G2ssbk2k016t",
    "outputId": "788fe950-ea9b-4511-9751-e8d4c0a34da6"
   },
   "outputs": [
    {
     "name": "stdout",
     "output_type": "stream",
     "text": [
      "51/51 [==============================] - 4s 86ms/step\n",
      "Test Loss: 1.0367503984301698\n",
      "Test Accuracy: 0.5980392098426819\n"
     ]
    }
   ],
   "source": [
    "score = model.evaluate(X_test, y_test, batch_size=32)\n",
    "\n",
    "print('Test Loss:', score[0])\n",
    "print('Test Accuracy:', score[1])"
   ]
  },
  {
   "cell_type": "code",
   "execution_count": 47,
   "metadata": {
    "colab": {
     "base_uri": "https://localhost:8080/",
     "height": 52
    },
    "colab_type": "code",
    "id": "4TP-US5y016w",
    "outputId": "70806dd2-ea57-4c98-fc4e-9a85145288f9"
   },
   "outputs": [
    {
     "name": "stdout",
     "output_type": "stream",
     "text": [
      "[0 1 1 0 1 0 0 1 1 1 1 0 1 1 1 0 1 1 1 1 1 1 1 1 1 0 0 1 0 1 1 1 1 1 1 1 1\n",
      " 1 1 0 0 1 1 1 1 1 1 0 0 1 1]\n"
     ]
    }
   ],
   "source": [
    "from sklearn.metrics import confusion_matrix\n",
    "\n",
    "Y_pred = model.predict(X_test)\n",
    "y_pred = np.argmax(Y_pred, axis=1)\n",
    "print(y_pred)"
   ]
  },
  {
   "cell_type": "code",
   "execution_count": 48,
   "metadata": {
    "colab": {
     "base_uri": "https://localhost:8080/",
     "height": 52
    },
    "colab_type": "code",
    "id": "--VeepQA0162",
    "outputId": "ff417858-19fb-4e98-9784-8c6c953294df"
   },
   "outputs": [
    {
     "name": "stdout",
     "output_type": "stream",
     "text": [
      "[[ 8 15]\n",
      " [ 5 23]]\n"
     ]
    }
   ],
   "source": [
    "print(confusion_matrix(np.argmax(y_test, axis=1), y_pred))"
   ]
  },
  {
   "cell_type": "markdown",
   "metadata": {
    "colab_type": "text",
    "id": "uuDBUqbM0168"
   },
   "source": [
    "## Data Augementation\n"
   ]
  },
  {
   "cell_type": "code",
   "execution_count": 66,
   "metadata": {
    "colab": {
     "base_uri": "https://localhost:8080/",
     "height": 52
    },
    "colab_type": "code",
    "id": "UNC2i-7f016-",
    "outputId": "33acb7a8-0505-4a3b-c5ac-23afaa6ac261"
   },
   "outputs": [
    {
     "name": "stdout",
     "output_type": "stream",
     "text": [
      "Found 253 images belonging to 2 classes.\n",
      "Found 253 images belonging to 2 classes.\n"
     ]
    }
   ],
   "source": [
    "from keras.preprocessing.image import ImageDataGenerator\n",
    "\n",
    "train_data_gen = ImageDataGenerator(\n",
    "    rotation_range=15,\n",
    "    shear_range=0.1, \n",
    "    zoom_range=0.4, \n",
    "    vertical_flip=True,\n",
    "    brightness_range=[0.5, 1.5],\n",
    "    rescale=1./255,\n",
    "    width_shift_range=0.1,\n",
    "    height_shift_range=0.1,\n",
    "    horizontal_flip=True)\n",
    "\n",
    "test_data_gen = ImageDataGenerator(rescale=1./255)\n",
    "\n",
    "train_generator = train_data_gen.flow_from_directory(\n",
    "        DATA_PATH,\n",
    "        target_size=(224, 224), \n",
    "        batch_size=32,\n",
    "        class_mode='binary',\n",
    "        color_mode='rgb', \n",
    "        shuffle=True,  \n",
    "        )\n",
    "\n",
    "test_generator = test_data_gen.flow_from_directory(\n",
    "        DATA_PATH,\n",
    "        target_size=(224, 224),\n",
    "        batch_size=32,\n",
    "        class_mode='binary',\n",
    "        color_mode='rgb',\n",
    "        shuffle=True, \n",
    "        seed=None, \n",
    "        )"
   ]
  },
  {
   "cell_type": "code",
   "execution_count": 67,
   "metadata": {
    "colab": {
     "base_uri": "https://localhost:8080/",
     "height": 34
    },
    "colab_type": "code",
    "id": "EVgHFBF0017C",
    "outputId": "07add607-2c0b-4692-bb3d-3b8b5ad79e50"
   },
   "outputs": [
    {
     "data": {
      "text/plain": [
       "{'no': 0, 'yes': 1}"
      ]
     },
     "execution_count": 67,
     "metadata": {
      "tags": []
     },
     "output_type": "execute_result"
    }
   ],
   "source": [
    "train_generator.class_indices"
   ]
  },
  {
   "cell_type": "code",
   "execution_count": 68,
   "metadata": {
    "colab": {
     "base_uri": "https://localhost:8080/",
     "height": 34
    },
    "colab_type": "code",
    "id": "QQNjjl9K017F",
    "outputId": "3aabe0d4-4300-460a-970e-912e13a5e619"
   },
   "outputs": [
    {
     "data": {
      "text/plain": [
       "{'no': 0, 'yes': 1}"
      ]
     },
     "execution_count": 68,
     "metadata": {
      "tags": []
     },
     "output_type": "execute_result"
    }
   ],
   "source": [
    "test_generator.class_indices"
   ]
  },
  {
   "cell_type": "code",
   "execution_count": 69,
   "metadata": {
    "colab": {},
    "colab_type": "code",
    "id": "tA0YB_nT017J"
   },
   "outputs": [],
   "source": [
    "#### Build the model\n",
    "model = Sequential()\n",
    "\n",
    "model.add(Conv2D(32, (3, 3),activation='relu', input_shape=input_shape))\n",
    "model.add(Conv2D(32, (3, 3),activation='relu'))\n",
    "model.add(MaxPooling2D(pool_size=(2, 2)))\n",
    "model.add(Dropout(0.2))\n",
    "\n",
    "model.add(Conv2D(64, (3, 3),activation='relu'))\n",
    "model.add(Conv2D(64, (3, 3),activation='relu'))\n",
    "model.add(MaxPooling2D(pool_size=(2, 2)))\n",
    "model.add(Dropout(0.2))\n",
    "\n",
    "model.add(Flatten())\n",
    "model.add(Dense(64, activation='relu'))\n",
    "model.add(Dropout(0.2))\n",
    "model.add(Dense(1, activation='sigmoid'))"
   ]
  },
  {
   "cell_type": "code",
   "execution_count": 70,
   "metadata": {
    "colab": {},
    "colab_type": "code",
    "id": "O1bWTuT9017O"
   },
   "outputs": [],
   "source": [
    "model.compile(loss='binary_crossentropy', optimizer='adam', metrics=[\"accuracy\"])"
   ]
  },
  {
   "cell_type": "code",
   "execution_count": 71,
   "metadata": {
    "colab": {
     "base_uri": "https://localhost:8080/",
     "height": 585
    },
    "colab_type": "code",
    "id": "eYdznnXR017R",
    "outputId": "95fe5b54-8e66-4e7a-8771-01de62f7f3a1"
   },
   "outputs": [
    {
     "name": "stdout",
     "output_type": "stream",
     "text": [
      "Model: \"sequential_5\"\n",
      "_________________________________________________________________\n",
      "Layer (type)                 Output Shape              Param #   \n",
      "=================================================================\n",
      "conv2d_17 (Conv2D)           (None, 222, 222, 32)      896       \n",
      "_________________________________________________________________\n",
      "conv2d_18 (Conv2D)           (None, 220, 220, 32)      9248      \n",
      "_________________________________________________________________\n",
      "max_pooling2d_9 (MaxPooling2 (None, 110, 110, 32)      0         \n",
      "_________________________________________________________________\n",
      "dropout_13 (Dropout)         (None, 110, 110, 32)      0         \n",
      "_________________________________________________________________\n",
      "conv2d_19 (Conv2D)           (None, 108, 108, 64)      18496     \n",
      "_________________________________________________________________\n",
      "conv2d_20 (Conv2D)           (None, 106, 106, 64)      36928     \n",
      "_________________________________________________________________\n",
      "max_pooling2d_10 (MaxPooling (None, 53, 53, 64)        0         \n",
      "_________________________________________________________________\n",
      "dropout_14 (Dropout)         (None, 53, 53, 64)        0         \n",
      "_________________________________________________________________\n",
      "flatten_5 (Flatten)          (None, 179776)            0         \n",
      "_________________________________________________________________\n",
      "dense_9 (Dense)              (None, 64)                11505728  \n",
      "_________________________________________________________________\n",
      "dropout_15 (Dropout)         (None, 64)                0         \n",
      "_________________________________________________________________\n",
      "dense_10 (Dense)             (None, 1)                 65        \n",
      "=================================================================\n",
      "Total params: 11,571,361\n",
      "Trainable params: 11,571,361\n",
      "Non-trainable params: 0\n",
      "_________________________________________________________________\n"
     ]
    }
   ],
   "source": [
    "model.summary()"
   ]
  },
  {
   "cell_type": "code",
   "execution_count": 72,
   "metadata": {
    "colab": {
     "base_uri": "https://localhost:8080/",
     "height": 763
    },
    "colab_type": "code",
    "id": "PhSiYfeT017U",
    "outputId": "248a6700-807c-4152-9998-ad7b9742c7db"
   },
   "outputs": [
    {
     "name": "stdout",
     "output_type": "stream",
     "text": [
      "Epoch 1/20\n",
      "8/8 [==============================] - 65s 8s/step - loss: 1.4738 - accuracy: 0.5059 - val_loss: 0.6956 - val_accuracy: 0.6126\n",
      "Epoch 2/20\n",
      "8/8 [==============================] - 61s 8s/step - loss: 0.6693 - accuracy: 0.6166 - val_loss: 0.6706 - val_accuracy: 0.6759\n",
      "Epoch 3/20\n",
      "8/8 [==============================] - 62s 8s/step - loss: 0.6565 - accuracy: 0.6285 - val_loss: 0.7157 - val_accuracy: 0.6126\n",
      "Epoch 4/20\n",
      "8/8 [==============================] - 60s 7s/step - loss: 0.6357 - accuracy: 0.6087 - val_loss: 0.6094 - val_accuracy: 0.7589\n",
      "Epoch 5/20\n",
      "8/8 [==============================] - 61s 8s/step - loss: 0.6687 - accuracy: 0.6047 - val_loss: 0.6568 - val_accuracy: 0.6561\n",
      "Epoch 6/20\n",
      "8/8 [==============================] - 67s 8s/step - loss: 0.6369 - accuracy: 0.6403 - val_loss: 0.6066 - val_accuracy: 0.6206\n",
      "Epoch 7/20\n",
      "8/8 [==============================] - 61s 8s/step - loss: 0.6332 - accuracy: 0.6403 - val_loss: 0.7348 - val_accuracy: 0.6601\n",
      "Epoch 8/20\n",
      "8/8 [==============================] - 62s 8s/step - loss: 0.6454 - accuracy: 0.6443 - val_loss: 0.5406 - val_accuracy: 0.6719\n",
      "Epoch 9/20\n",
      "8/8 [==============================] - 61s 8s/step - loss: 0.6207 - accuracy: 0.6759 - val_loss: 0.6086 - val_accuracy: 0.7075\n",
      "Epoch 10/20\n",
      "8/8 [==============================] - 60s 8s/step - loss: 0.6358 - accuracy: 0.6680 - val_loss: 0.6202 - val_accuracy: 0.6996\n",
      "Epoch 11/20\n",
      "8/8 [==============================] - 61s 8s/step - loss: 0.6117 - accuracy: 0.6917 - val_loss: 0.5917 - val_accuracy: 0.7036\n",
      "Epoch 12/20\n",
      "8/8 [==============================] - 62s 8s/step - loss: 0.5785 - accuracy: 0.7036 - val_loss: 0.5769 - val_accuracy: 0.7194\n",
      "Epoch 13/20\n",
      "8/8 [==============================] - 60s 8s/step - loss: 0.5982 - accuracy: 0.6877 - val_loss: 0.5469 - val_accuracy: 0.6917\n",
      "Epoch 14/20\n",
      "8/8 [==============================] - 60s 7s/step - loss: 0.6100 - accuracy: 0.6561 - val_loss: 0.6507 - val_accuracy: 0.6957\n",
      "Epoch 15/20\n",
      "8/8 [==============================] - 60s 8s/step - loss: 0.6083 - accuracy: 0.6838 - val_loss: 0.5484 - val_accuracy: 0.7589\n",
      "Epoch 16/20\n",
      "8/8 [==============================] - 61s 8s/step - loss: 0.5763 - accuracy: 0.7115 - val_loss: 0.5599 - val_accuracy: 0.7352\n",
      "Epoch 17/20\n",
      "8/8 [==============================] - 60s 8s/step - loss: 0.5734 - accuracy: 0.7233 - val_loss: 0.5751 - val_accuracy: 0.6482\n",
      "Epoch 18/20\n",
      "8/8 [==============================] - 60s 7s/step - loss: 0.6490 - accuracy: 0.6403 - val_loss: 0.6126 - val_accuracy: 0.6561\n",
      "Epoch 19/20\n",
      "8/8 [==============================] - 60s 7s/step - loss: 0.6403 - accuracy: 0.6719 - val_loss: 0.6384 - val_accuracy: 0.6719\n",
      "Epoch 20/20\n",
      "8/8 [==============================] - 60s 7s/step - loss: 0.5753 - accuracy: 0.7036 - val_loss: 0.6870 - val_accuracy: 0.7668\n",
      "CPU times: user 39min 3s, sys: 23 s, total: 39min 26s\n",
      "Wall time: 20min 24s\n"
     ]
    }
   ],
   "source": [
    "#training the model \n",
    "%%time\n",
    "hist=model.fit_generator(\n",
    "    train_generator,\n",
    "    epochs=20,\n",
    "    validation_data=test_generator)"
   ]
  },
  {
   "cell_type": "markdown",
   "metadata": {
    "colab_type": "text",
    "id": "-58umFQ_017Y"
   },
   "source": [
    "# Transfer Learning(VGG16)"
   ]
  },
  {
   "cell_type": "code",
   "execution_count": 78,
   "metadata": {
    "colab": {},
    "colab_type": "code",
    "id": "P0ln04YZ017a"
   },
   "outputs": [],
   "source": [
    "from keras.layers import Input, Dense\n",
    "from keras.models import Model"
   ]
  },
  {
   "cell_type": "code",
   "execution_count": 79,
   "metadata": {
    "colab": {},
    "colab_type": "code",
    "id": "S1pvOIkl017d"
   },
   "outputs": [],
   "source": [
    "image_input = Input(shape=(224, 224, 3))"
   ]
  },
  {
   "cell_type": "code",
   "execution_count": 80,
   "metadata": {
    "colab": {
     "base_uri": "https://localhost:8080/",
     "height": 52
    },
    "colab_type": "code",
    "id": "g6uBA_8C017g",
    "outputId": "b21de113-c6fe-43a8-97a5-d3be0c611c33"
   },
   "outputs": [
    {
     "name": "stdout",
     "output_type": "stream",
     "text": [
      "Downloading data from https://github.com/fchollet/deep-learning-models/releases/download/v0.1/vgg16_weights_tf_dim_ordering_tf_kernels_notop.h5\n",
      "58892288/58889256 [==============================] - 2s 0us/step\n"
     ]
    }
   ],
   "source": [
    "from keras.applications.vgg16 import VGG16\n",
    "\n",
    "model = VGG16(input_tensor=image_input, include_top=False, weights='imagenet')"
   ]
  },
  {
   "cell_type": "code",
   "execution_count": 81,
   "metadata": {
    "colab": {},
    "colab_type": "code",
    "id": "1N7Nhbxs017i"
   },
   "outputs": [],
   "source": [
    "last_layer = model.get_layer('block5_pool').output\n",
    "x = Flatten(name='flatten')(last_layer)\n",
    "x = Dense(128, activation='relu', name='fc1')(x)\n",
    "x = Dense(128, activation='relu', name='fc2')(x)\n",
    "out = Dense(num_classes, activation='softmax', name='output')(x)\n",
    "custom_vgg_model = Model(image_input, out)"
   ]
  },
  {
   "cell_type": "code",
   "execution_count": 82,
   "metadata": {
    "colab": {
     "base_uri": "https://localhost:8080/",
     "height": 976
    },
    "colab_type": "code",
    "id": "3fg8xUHf017l",
    "outputId": "91828af8-9de3-4a67-e37c-60a9e45dcba1"
   },
   "outputs": [
    {
     "name": "stdout",
     "output_type": "stream",
     "text": [
      "Model: \"model_1\"\n",
      "_________________________________________________________________\n",
      "Layer (type)                 Output Shape              Param #   \n",
      "=================================================================\n",
      "input_1 (InputLayer)         (None, 224, 224, 3)       0         \n",
      "_________________________________________________________________\n",
      "block1_conv1 (Conv2D)        (None, 224, 224, 64)      1792      \n",
      "_________________________________________________________________\n",
      "block1_conv2 (Conv2D)        (None, 224, 224, 64)      36928     \n",
      "_________________________________________________________________\n",
      "block1_pool (MaxPooling2D)   (None, 112, 112, 64)      0         \n",
      "_________________________________________________________________\n",
      "block2_conv1 (Conv2D)        (None, 112, 112, 128)     73856     \n",
      "_________________________________________________________________\n",
      "block2_conv2 (Conv2D)        (None, 112, 112, 128)     147584    \n",
      "_________________________________________________________________\n",
      "block2_pool (MaxPooling2D)   (None, 56, 56, 128)       0         \n",
      "_________________________________________________________________\n",
      "block3_conv1 (Conv2D)        (None, 56, 56, 256)       295168    \n",
      "_________________________________________________________________\n",
      "block3_conv2 (Conv2D)        (None, 56, 56, 256)       590080    \n",
      "_________________________________________________________________\n",
      "block3_conv3 (Conv2D)        (None, 56, 56, 256)       590080    \n",
      "_________________________________________________________________\n",
      "block3_pool (MaxPooling2D)   (None, 28, 28, 256)       0         \n",
      "_________________________________________________________________\n",
      "block4_conv1 (Conv2D)        (None, 28, 28, 512)       1180160   \n",
      "_________________________________________________________________\n",
      "block4_conv2 (Conv2D)        (None, 28, 28, 512)       2359808   \n",
      "_________________________________________________________________\n",
      "block4_conv3 (Conv2D)        (None, 28, 28, 512)       2359808   \n",
      "_________________________________________________________________\n",
      "block4_pool (MaxPooling2D)   (None, 14, 14, 512)       0         \n",
      "_________________________________________________________________\n",
      "block5_conv1 (Conv2D)        (None, 14, 14, 512)       2359808   \n",
      "_________________________________________________________________\n",
      "block5_conv2 (Conv2D)        (None, 14, 14, 512)       2359808   \n",
      "_________________________________________________________________\n",
      "block5_conv3 (Conv2D)        (None, 14, 14, 512)       2359808   \n",
      "_________________________________________________________________\n",
      "block5_pool (MaxPooling2D)   (None, 7, 7, 512)         0         \n",
      "_________________________________________________________________\n",
      "flatten (Flatten)            (None, 25088)             0         \n",
      "_________________________________________________________________\n",
      "fc1 (Dense)                  (None, 128)               3211392   \n",
      "_________________________________________________________________\n",
      "fc2 (Dense)                  (None, 128)               16512     \n",
      "_________________________________________________________________\n",
      "output (Dense)               (None, 2)                 258       \n",
      "=================================================================\n",
      "Total params: 17,942,850\n",
      "Trainable params: 17,942,850\n",
      "Non-trainable params: 0\n",
      "_________________________________________________________________\n"
     ]
    }
   ],
   "source": [
    "custom_vgg_model.summary()"
   ]
  },
  {
   "cell_type": "code",
   "execution_count": 83,
   "metadata": {
    "colab": {},
    "colab_type": "code",
    "id": "7wZ0e1Ha017q"
   },
   "outputs": [],
   "source": [
    "# freeze all the layers except the dense layers\n",
    "for layer in custom_vgg_model.layers[:-3]:\n",
    "    layer.trainable = False"
   ]
  },
  {
   "cell_type": "code",
   "execution_count": 84,
   "metadata": {
    "colab": {
     "base_uri": "https://localhost:8080/",
     "height": 976
    },
    "colab_type": "code",
    "id": "Lom8y56Y017u",
    "outputId": "384e13b2-80e6-493d-ab68-7255c4770c4f"
   },
   "outputs": [
    {
     "name": "stdout",
     "output_type": "stream",
     "text": [
      "Model: \"model_1\"\n",
      "_________________________________________________________________\n",
      "Layer (type)                 Output Shape              Param #   \n",
      "=================================================================\n",
      "input_1 (InputLayer)         (None, 224, 224, 3)       0         \n",
      "_________________________________________________________________\n",
      "block1_conv1 (Conv2D)        (None, 224, 224, 64)      1792      \n",
      "_________________________________________________________________\n",
      "block1_conv2 (Conv2D)        (None, 224, 224, 64)      36928     \n",
      "_________________________________________________________________\n",
      "block1_pool (MaxPooling2D)   (None, 112, 112, 64)      0         \n",
      "_________________________________________________________________\n",
      "block2_conv1 (Conv2D)        (None, 112, 112, 128)     73856     \n",
      "_________________________________________________________________\n",
      "block2_conv2 (Conv2D)        (None, 112, 112, 128)     147584    \n",
      "_________________________________________________________________\n",
      "block2_pool (MaxPooling2D)   (None, 56, 56, 128)       0         \n",
      "_________________________________________________________________\n",
      "block3_conv1 (Conv2D)        (None, 56, 56, 256)       295168    \n",
      "_________________________________________________________________\n",
      "block3_conv2 (Conv2D)        (None, 56, 56, 256)       590080    \n",
      "_________________________________________________________________\n",
      "block3_conv3 (Conv2D)        (None, 56, 56, 256)       590080    \n",
      "_________________________________________________________________\n",
      "block3_pool (MaxPooling2D)   (None, 28, 28, 256)       0         \n",
      "_________________________________________________________________\n",
      "block4_conv1 (Conv2D)        (None, 28, 28, 512)       1180160   \n",
      "_________________________________________________________________\n",
      "block4_conv2 (Conv2D)        (None, 28, 28, 512)       2359808   \n",
      "_________________________________________________________________\n",
      "block4_conv3 (Conv2D)        (None, 28, 28, 512)       2359808   \n",
      "_________________________________________________________________\n",
      "block4_pool (MaxPooling2D)   (None, 14, 14, 512)       0         \n",
      "_________________________________________________________________\n",
      "block5_conv1 (Conv2D)        (None, 14, 14, 512)       2359808   \n",
      "_________________________________________________________________\n",
      "block5_conv2 (Conv2D)        (None, 14, 14, 512)       2359808   \n",
      "_________________________________________________________________\n",
      "block5_conv3 (Conv2D)        (None, 14, 14, 512)       2359808   \n",
      "_________________________________________________________________\n",
      "block5_pool (MaxPooling2D)   (None, 7, 7, 512)         0         \n",
      "_________________________________________________________________\n",
      "flatten (Flatten)            (None, 25088)             0         \n",
      "_________________________________________________________________\n",
      "fc1 (Dense)                  (None, 128)               3211392   \n",
      "_________________________________________________________________\n",
      "fc2 (Dense)                  (None, 128)               16512     \n",
      "_________________________________________________________________\n",
      "output (Dense)               (None, 2)                 258       \n",
      "=================================================================\n",
      "Total params: 17,942,850\n",
      "Trainable params: 3,228,162\n",
      "Non-trainable params: 14,714,688\n",
      "_________________________________________________________________\n"
     ]
    }
   ],
   "source": [
    "custom_vgg_model.summary()"
   ]
  },
  {
   "cell_type": "code",
   "execution_count": 85,
   "metadata": {
    "colab": {},
    "colab_type": "code",
    "id": "9xaST6Sm017w"
   },
   "outputs": [],
   "source": [
    "custom_vgg_model.compile(loss='binary_crossentropy', optimizer='adadelta', metrics=['accuracy'])"
   ]
  },
  {
   "cell_type": "code",
   "execution_count": 86,
   "metadata": {
    "colab": {
     "base_uri": "https://localhost:8080/",
     "height": 781
    },
    "colab_type": "code",
    "id": "s1mhDang017z",
    "outputId": "fbcb361d-4c64-4834-eb3b-d34d0de4bd81"
   },
   "outputs": [
    {
     "name": "stdout",
     "output_type": "stream",
     "text": [
      "Train on 202 samples, validate on 51 samples\n",
      "Epoch 1/20\n",
      "202/202 [==============================] - 119s 589ms/step - loss: 2.1459 - accuracy: 0.5446 - val_loss: 0.8148 - val_accuracy: 0.5294\n",
      "Epoch 2/20\n",
      "202/202 [==============================] - 120s 593ms/step - loss: 0.8143 - accuracy: 0.5941 - val_loss: 0.5978 - val_accuracy: 0.6667\n",
      "Epoch 3/20\n",
      "202/202 [==============================] - 122s 604ms/step - loss: 0.6928 - accuracy: 0.6238 - val_loss: 0.9382 - val_accuracy: 0.5490\n",
      "Epoch 4/20\n",
      "202/202 [==============================] - 121s 601ms/step - loss: 0.6162 - accuracy: 0.6881 - val_loss: 1.1490 - val_accuracy: 0.5490\n",
      "Epoch 5/20\n",
      "202/202 [==============================] - 122s 606ms/step - loss: 0.5861 - accuracy: 0.6881 - val_loss: 0.6918 - val_accuracy: 0.5686\n",
      "Epoch 6/20\n",
      "202/202 [==============================] - 120s 592ms/step - loss: 0.5266 - accuracy: 0.7228 - val_loss: 0.6050 - val_accuracy: 0.5490\n",
      "Epoch 7/20\n",
      "202/202 [==============================] - 121s 600ms/step - loss: 0.5256 - accuracy: 0.7129 - val_loss: 0.6903 - val_accuracy: 0.5490\n",
      "Epoch 8/20\n",
      "202/202 [==============================] - 122s 606ms/step - loss: 0.4388 - accuracy: 0.7921 - val_loss: 0.9206 - val_accuracy: 0.5294\n",
      "Epoch 9/20\n",
      "202/202 [==============================] - 121s 600ms/step - loss: 0.5204 - accuracy: 0.7426 - val_loss: 0.6158 - val_accuracy: 0.7059\n",
      "Epoch 10/20\n",
      "202/202 [==============================] - 123s 609ms/step - loss: 0.4856 - accuracy: 0.7574 - val_loss: 0.7247 - val_accuracy: 0.6078\n",
      "Epoch 11/20\n",
      "202/202 [==============================] - 121s 597ms/step - loss: 0.4523 - accuracy: 0.7822 - val_loss: 0.6622 - val_accuracy: 0.5490\n",
      "Epoch 12/20\n",
      "202/202 [==============================] - 122s 605ms/step - loss: 0.4921 - accuracy: 0.7525 - val_loss: 0.7390 - val_accuracy: 0.5686\n",
      "Epoch 13/20\n",
      "202/202 [==============================] - 122s 604ms/step - loss: 0.4020 - accuracy: 0.8020 - val_loss: 0.7607 - val_accuracy: 0.5686\n",
      "Epoch 14/20\n",
      "202/202 [==============================] - 122s 604ms/step - loss: 0.4294 - accuracy: 0.7970 - val_loss: 1.2127 - val_accuracy: 0.5490\n",
      "Epoch 15/20\n",
      "202/202 [==============================] - 125s 620ms/step - loss: 0.6351 - accuracy: 0.6782 - val_loss: 0.5679 - val_accuracy: 0.6863\n",
      "Epoch 16/20\n",
      "202/202 [==============================] - 122s 603ms/step - loss: 0.3878 - accuracy: 0.7970 - val_loss: 0.6157 - val_accuracy: 0.6275\n",
      "Epoch 17/20\n",
      "202/202 [==============================] - 122s 604ms/step - loss: 0.3727 - accuracy: 0.8218 - val_loss: 0.7115 - val_accuracy: 0.6078\n",
      "Epoch 18/20\n",
      "202/202 [==============================] - 120s 595ms/step - loss: 0.4250 - accuracy: 0.7772 - val_loss: 0.7097 - val_accuracy: 0.5686\n",
      "Epoch 19/20\n",
      "202/202 [==============================] - 119s 591ms/step - loss: 0.3696 - accuracy: 0.8069 - val_loss: 0.6919 - val_accuracy: 0.5490\n",
      "Epoch 20/20\n",
      "202/202 [==============================] - 121s 600ms/step - loss: 0.3066 - accuracy: 0.8317 - val_loss: 0.9042 - val_accuracy: 0.5686\n",
      "CPU times: user 1h 19min 6s, sys: 11.9 s, total: 1h 19min 18s\n",
      "Wall time: 40min 29s\n"
     ]
    }
   ],
   "source": [
    "#training model\n",
    "%%time\n",
    "hist = custom_vgg_model.fit(X_train, y_train, batch_size=32, epochs=20, verbose=1, validation_data=(X_test, y_test))"
   ]
  },
  {
   "cell_type": "code",
   "execution_count": 87,
   "metadata": {
    "colab": {
     "base_uri": "https://localhost:8080/",
     "height": 52
    },
    "colab_type": "code",
    "id": "GCljXRls0172",
    "outputId": "e4a38156-7e5e-49c8-f1c1-e3419eeb85ee"
   },
   "outputs": [
    {
     "name": "stdout",
     "output_type": "stream",
     "text": [
      "51/51 [==============================] - 25s 483ms/step\n",
      "[INFO] loss=0.9042, accuracy: 56.8627%\n"
     ]
    }
   ],
   "source": [
    "(loss, accuracy) = custom_vgg_model.evaluate(X_test, y_test, batch_size=32, verbose=1)\n",
    "\n",
    "print(\"[INFO] loss={:.4f}, accuracy: {:.4f}%\".format(loss,accuracy * 100))"
   ]
  },
  {
   "cell_type": "code",
   "execution_count": 88,
   "metadata": {
    "colab": {},
    "colab_type": "code",
    "id": "tHoZmpWM017_"
   },
   "outputs": [],
   "source": [
    "Y_train_pred = custom_vgg_model.predict(X_test)"
   ]
  },
  {
   "cell_type": "code",
   "execution_count": 89,
   "metadata": {
    "colab": {
     "base_uri": "https://localhost:8080/",
     "height": 52
    },
    "colab_type": "code",
    "id": "yCo4nNq7018D",
    "outputId": "4817fde7-f927-420d-dafa-e715477ceb59"
   },
   "outputs": [
    {
     "name": "stdout",
     "output_type": "stream",
     "text": [
      "[1 1 1 1 1 1 1 1 1 1 1 1 1 1 1 1 1 1 1 1 1 1 1 1 1 1 1 1 1 1 1 1 1 1 1 1 1\n",
      " 1 0 1 1 1 1 1 1 1 1 1 1 1 1]\n"
     ]
    }
   ],
   "source": [
    "y_train_pred = np.argmax(Y_train_pred, axis=1)\n",
    "print(y_train_pred)"
   ]
  },
  {
   "cell_type": "code",
   "execution_count": 90,
   "metadata": {
    "colab": {
     "base_uri": "https://localhost:8080/",
     "height": 52
    },
    "colab_type": "code",
    "id": "HV_U_cd-018H",
    "outputId": "7fd90832-4069-417c-c763-f7dc7166a2dd"
   },
   "outputs": [
    {
     "name": "stdout",
     "output_type": "stream",
     "text": [
      "[[ 1 22]\n",
      " [ 0 28]]\n"
     ]
    }
   ],
   "source": [
    "print(confusion_matrix(np.argmax(y_test, axis=1), y_train_pred))"
   ]
  },
  {
   "cell_type": "markdown",
   "metadata": {
    "colab_type": "text",
    "id": "1zoaqqe5018O"
   },
   "source": [
    "# Conclusion\n",
    "The final accuracy is much higher than 50% baseline . However, it could be increased by larger number of train images or through model hyperparameters tuning."
   ]
  }
 ],
 "metadata": {
  "colab": {
   "collapsed_sections": [],
   "name": "Brain Tumor Classifer.ipynb",
   "provenance": []
  },
  "kernelspec": {
   "display_name": "Python 3",
   "language": "python",
   "name": "python3"
  },
  "language_info": {
   "codemirror_mode": {
    "name": "ipython",
    "version": 3
   },
   "file_extension": ".py",
   "mimetype": "text/x-python",
   "name": "python",
   "nbconvert_exporter": "python",
   "pygments_lexer": "ipython3",
   "version": "3.7.3"
  }
 },
 "nbformat": 4,
 "nbformat_minor": 1
}
